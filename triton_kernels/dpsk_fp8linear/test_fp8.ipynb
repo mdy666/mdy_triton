{
 "cells": [
  {
   "cell_type": "code",
   "execution_count": 1,
   "metadata": {},
   "outputs": [
    {
     "name": "stderr",
     "output_type": "stream",
     "text": [
      "/sharedata/mdy/miniforge/envs/cuda128/lib/python3.10/site-packages/tqdm/auto.py:21: TqdmWarning: IProgress not found. Please update jupyter and ipywidgets. See https://ipywidgets.readthedocs.io/en/stable/user_install.html\n",
      "  from .autonotebook import tqdm as notebook_tqdm\n"
     ]
    }
   ],
   "source": [
    "import random\n",
    "import torch\n",
    "from typing import Tuple\n",
    "import triton\n",
    "import pandas as pd\n",
    "from fp8 import DeepLinear, quant_input, quant_weight\n",
    "from copy import deepcopy\n",
    "import os\n",
    "os.environ['TRITON_PRINT_AUTOTUNING']= '1'\n",
    "from tqdm import tqdm\n",
    "from transformers import Trainer"
   ]
  },
  {
   "cell_type": "markdown",
   "metadata": {},
   "source": [
    "# 精度"
   ]
  },
  {
   "cell_type": "code",
   "execution_count": null,
   "metadata": {},
   "outputs": [],
   "source": [
    "device = 'cuda'\n",
    "dtype = torch.bfloat16\n",
    "m, n, k = 4096 * 2, 8192, 8192\n",
    "x1 = torch.randn(m, k, dtype=dtype, device=device)\n",
    "x1.requires_grad_(True)\n",
    "x2 = deepcopy(x1)\n",
    "fc1 = torch.nn.Linear(k,n, bias=False, dtype=dtype, device=device)\n",
    "fc2 = DeepLinear(k,n, bias=False, dtype=dtype, device=device)\n",
    "fc2.weight.data.copy_(fc1.weight.data)\n",
    "# dy = torch.randn(m, n, dtype=dtype, device=device)"
   ]
  },
  {
   "cell_type": "code",
   "execution_count": 5,
   "metadata": {},
   "outputs": [
    {
     "name": "stdout",
     "output_type": "stream",
     "text": [
      "tensor([[-0.0786, -0.0291, -0.0059,  ..., -0.1719,  0.6562,  0.6992],\n",
      "        [-0.3613,  0.1260, -0.2295,  ...,  0.9102, -0.8164, -0.6523],\n",
      "        [-0.5781, -0.0552, -0.0029,  ...,  0.0583, -0.8516,  1.7109],\n",
      "        ...,\n",
      "        [-0.1719, -1.0391, -0.2305,  ..., -0.2520,  0.6719,  0.1377],\n",
      "        [ 0.5664, -0.1875,  0.5547,  ...,  0.3242,  0.8242, -0.1816],\n",
      "        [-0.9805,  0.1250, -0.1504,  ...,  0.4199, -0.2295, -0.3906]],\n",
      "       device='cuda:0', dtype=torch.bfloat16, grad_fn=<MmBackward0>)\n",
      "tensor([[-0.0583, -0.0248, -0.0031,  ..., -0.1729,  0.6953,  0.6641],\n",
      "        [-0.3789,  0.1196, -0.2217,  ...,  0.8867, -0.8203, -0.6406],\n",
      "        [-0.5742, -0.0649,  0.0026,  ...,  0.0444, -0.8320,  1.7188],\n",
      "        ...,\n",
      "        [-0.1689, -1.0703, -0.1953,  ..., -0.2656,  0.6836,  0.1396],\n",
      "        [ 0.5977, -0.2031,  0.5742,  ...,  0.3203,  0.8359, -0.1846],\n",
      "        [-0.9688,  0.1719, -0.0986,  ...,  0.4492, -0.2480, -0.4160]],\n",
      "       device='cuda:0', dtype=torch.bfloat16, grad_fn=<_DeepLinearBackward>)\n",
      "tensor([[-0.6172, -0.2344, -0.0918,  ..., -0.1523, -0.8438, -0.3027],\n",
      "        [-0.4453, -0.5039,  0.0408,  ...,  0.6914, -0.4141,  0.2871],\n",
      "        [ 0.0913, -0.1875, -0.0481,  ..., -0.8594,  0.4082,  0.6602],\n",
      "        ...,\n",
      "        [ 0.5820,  1.1641, -0.2480,  ...,  1.0000, -0.3496, -0.3691],\n",
      "        [-0.7930,  0.0547, -0.4277,  ..., -0.7461, -0.4648,  0.1338],\n",
      "        [-0.9102,  0.4844,  0.2676,  ..., -0.9844, -0.9688,  0.3496]],\n",
      "       device='cuda:0', dtype=torch.bfloat16)\n",
      "tensor([[-0.6602, -0.2490, -0.0933,  ..., -0.1699, -0.8594, -0.2910],\n",
      "        [-0.4688, -0.5117,  0.0408,  ...,  0.6875, -0.4336,  0.2695],\n",
      "        [ 0.0830, -0.1396, -0.0220,  ..., -0.8477,  0.4043,  0.6680],\n",
      "        ...,\n",
      "        [ 0.5430,  1.1562, -0.2344,  ...,  0.9961, -0.4004, -0.3633],\n",
      "        [-0.7656,  0.0459, -0.4121,  ..., -0.7656, -0.4570,  0.1338],\n",
      "        [-0.9102,  0.4961,  0.2598,  ..., -0.9844, -1.0078,  0.3184]],\n",
      "       device='cuda:0', dtype=torch.bfloat16)\n",
      "tensor([[ -18.6250,  -42.0000,   76.5000,  ...,  111.5000,  142.0000,\n",
      "         -100.5000],\n",
      "        [ 250.0000,  122.0000, -235.0000,  ...,   40.0000,   23.6250,\n",
      "          -28.2500],\n",
      "        [  18.8750,  195.0000,  100.5000,  ...,   23.0000,   -8.5625,\n",
      "           33.2500],\n",
      "        ...,\n",
      "        [ -75.0000, -120.5000,   -5.1875,  ...,   -7.1562,  188.0000,\n",
      "          -25.8750],\n",
      "        [   2.4844, -133.0000,  -72.5000,  ...,   -5.7812, -112.0000,\n",
      "           17.0000],\n",
      "        [  25.3750,   44.7500,   93.0000,  ...,   93.0000,  -24.7500,\n",
      "          -45.0000]], device='cuda:0', dtype=torch.bfloat16)\n",
      "tensor([[ -20.3750,  -46.2500,   75.5000,  ...,  113.5000,  143.0000,\n",
      "         -101.5000],\n",
      "        [ 251.0000,  121.5000, -238.0000,  ...,   43.7500,   29.8750,\n",
      "          -26.6250],\n",
      "        [  17.8750,  195.0000,  103.0000,  ...,   20.0000,   -6.6875,\n",
      "           29.6250],\n",
      "        ...,\n",
      "        [ -69.5000, -117.0000,   -0.9141,  ...,  -10.1250,  188.0000,\n",
      "          -31.2500],\n",
      "        [   4.1562, -131.0000,  -71.0000,  ...,   -4.8125, -109.5000,\n",
      "           23.7500],\n",
      "        [  28.2500,   42.7500,   87.0000,  ...,   93.5000,  -24.2500,\n",
      "          -46.0000]], device='cuda:0', dtype=torch.bfloat16)\n"
     ]
    }
   ],
   "source": [
    "y1 = fc1(x1)\n",
    "y2 = fc2(x2)\n",
    "dy = torch.randn_like(y1)\n",
    "y1.backward(dy)\n",
    "y2.backward(dy)\n",
    "print(y1)\n",
    "print(y2)\n",
    "print(x1.grad)\n",
    "print(x2.grad)\n",
    "print(fc1.weight.grad)\n",
    "print(fc2.weight.grad)"
   ]
  },
  {
   "cell_type": "code",
   "execution_count": null,
   "metadata": {},
   "outputs": [
    {
     "name": "stdout",
     "output_type": "stream",
     "text": [
      "4.789308547973633\n",
      "3.1469065845012665\n"
     ]
    }
   ],
   "source": [
    "print(triton.testing.do_bench(lambda: fc1(x1).backward(dy)))\n",
    "# 可以把weight cache起来，第一个micro_bs去更新fp8_weight，可以去megatron_scrips中查看\n",
    "print(triton.testing.do_bench(lambda: fc2(x2).backward(dy)) - triton.testing.do_bench(lambda: quant_weight(fc2.weight.data, only_forward=False)))\n"
   ]
  },
  {
   "cell_type": "code",
   "execution_count": 5,
   "metadata": {},
   "outputs": [
    {
     "name": "stdout",
     "output_type": "stream",
     "text": [
      "1.624271035194397\n",
      "1.1004228591918945\n",
      "3.3067338466644287\n",
      "2.1649904251098633\n"
     ]
    }
   ],
   "source": [
    "print(triton.testing.do_bench(lambda: fc1(x1)))\n",
    "print(triton.testing.do_bench(lambda: fc2(x2)))\n",
    "y1 = fc1(x1)\n",
    "y2 = fc2(x2)\n",
    "dy = torch.randn_like(y1)\n",
    "print(triton.testing.do_bench(lambda: y1.backward(dy, retain_graph=True)))\n",
    "print(triton.testing.do_bench(lambda: y2.backward(dy, retain_graph=True)))"
   ]
  },
  {
   "cell_type": "markdown",
   "metadata": {},
   "source": [
    "# Forward"
   ]
  },
  {
   "cell_type": "code",
   "execution_count": 2,
   "metadata": {},
   "outputs": [
    {
     "data": {
      "image/png": "[encoded data removed]",
      "text/plain": [
       "<Figure size 640x480 with 1 Axes>"
      ]
     },
     "metadata": {},
     "output_type": "display_data"
    },
    {
     "name": "stdout",
     "output_type": "stream",
     "text": [
      "forward:\n",
      "        k       bf16       fp8\n",
      "0  1024.0   0.194941  0.188405\n",
      "1  2048.0   0.786695  0.567100\n",
      "2  3072.0   1.736629  1.182998\n",
      "3  4096.0   3.160715  2.021425\n",
      "4  5120.0   4.916526  3.100666\n",
      "5  6144.0   7.006277  4.391098\n",
      "6  7168.0   9.500768  5.980333\n",
      "7  8192.0  12.351304  7.658754\n"
     ]
    }
   ],
   "source": [
    "torch.cuda.empty_cache()\n",
    "@triton.testing.perf_report(\n",
    "    triton.testing.Benchmark(\n",
    "        x_names=['k'],  # argument names to use as an x-axis for the plot\n",
    "        x_vals=[1024 * i for i in range(1, 8+1)],  # different possible values for `x_name`\n",
    "        line_arg='provider',  # argument name whose value corresponds to a different line in the plot\n",
    "        line_vals=['bf16', 'fp8'],  # possible values for `line_arg``\n",
    "        line_names=[\n",
    "            \"bf16\",\n",
    "            \"fp8\",\n",
    "        ],  # label name for the lines\n",
    "        styles=[('blue', '-'), ('green', '-')],  # line styles\n",
    "        ylabel=\"ms\",  # label name for the y-axis\n",
    "        plot_name=\"forward\",  # name for the plot. Used also as a file name for saving the plot.\n",
    "        args={'m':4096, 'bs':4, 'factor':4},  # values for function arguments not in `x_names` and `y_name`\n",
    "    ))\n",
    "def benchmark(bs, m, k, factor, provider):\n",
    "    n = k * factor\n",
    "    device = 'cuda'\n",
    "    dtype = torch.bfloat16\n",
    "    x = torch.randn(bs*m, k, dtype=dtype, device=device) \n",
    "    stream = torch.cuda.Stream()\n",
    "    torch.cuda.set_stream(stream)\n",
    "    if provider == 'bf16':\n",
    "        fc = torch.nn.Linear(k,n, bias=False, dtype=dtype, device=device)\n",
    "        ms = triton.testing.do_bench(lambda: fc(x))\n",
    "    if provider == 'fp8':\n",
    "        fc = DeepLinear(k,n, bias=False, dtype=dtype, device=device)\n",
    "        ms = triton.testing.do_bench(lambda: fc(x))\n",
    "    return ms\n",
    "benchmark.run(show_plots=True, print_data=True)"
   ]
  },
  {
   "cell_type": "markdown",
   "metadata": {},
   "source": [
    "# Backward"
   ]
  },
  {
   "cell_type": "code",
   "execution_count": 3,
   "metadata": {},
   "outputs": [
    {
     "name": "stderr",
     "output_type": "stream",
     "text": [
      "/sharedata/mdy/miniforge/envs/cuda128/lib/python3.10/site-packages/torch/autograd/graph.py:823: UserWarning: Attempting to run cuBLAS, but there was no current CUDA context! Attempting to set the primary context... (Triggered internally at /pytorch/aten/src/ATen/cuda/CublasHandlePool.cpp:180.)\n",
      "  return Variable._execution_engine.run_backward(  # Calls into the C++ engine to run the backward pass\n"
     ]
    },
    {
     "data": {
      "image/png": "[encoded data removed]",
      "text/plain": [
       "<Figure size 640x480 with 1 Axes>"
      ]
     },
     "metadata": {},
     "output_type": "display_data"
    },
    {
     "name": "stdout",
     "output_type": "stream",
     "text": [
      "backward:\n",
      "        k       bf16        fp8\n",
      "0  1024.0   0.346827   0.344999\n",
      "1  2048.0   1.475767   1.101843\n",
      "2  3072.0   3.385527   2.342549\n",
      "3  4096.0   6.052966   3.950739\n",
      "4  5120.0   9.549991   6.126831\n",
      "5  6144.0  14.244321   8.698150\n",
      "6  7168.0  19.183290  11.872935\n",
      "7  8192.0  25.788393  15.218900\n"
     ]
    }
   ],
   "source": [
    "torch.cuda.empty_cache()\n",
    "@triton.testing.perf_report(\n",
    "    triton.testing.Benchmark(\n",
    "        x_names=['k'],  # argument names to use as an x-axis for the plot\n",
    "        x_vals=[1024 * i for i in range(1, 8+1)],  # different possible values for `x_name`\n",
    "        line_arg='provider',  # argument name whose value corresponds to a different line in the plot\n",
    "        line_vals=['bf16', 'fp8'],  # possible values for `line_arg``\n",
    "        line_names=[\n",
    "            \"bf16\",\n",
    "            \"fp8\",\n",
    "        ],  # label name for the lines\n",
    "        styles=[('blue', '-'), ('green', '-')],  # line styles\n",
    "        ylabel=\"ms\",  # label name for the y-axis\n",
    "        plot_name=\"backward\",  # name for the plot. Used also as a file name for saving the plot.\n",
    "        args={'m':4096, 'bs':4, 'factor':4},  # values for function arguments not in `x_names` and `y_name`\n",
    "    ))\n",
    "def benchmark(bs, m, k, factor, provider):\n",
    "    n = k * factor\n",
    "    device = 'cuda'\n",
    "    dtype = torch.bfloat16\n",
    "    x = torch.randn(bs*m, k, dtype=dtype, device=device)\n",
    "    x.requires_grad_(True)\n",
    "    \n",
    "    stream = torch.cuda.Stream()\n",
    "    torch.cuda.set_stream(stream)\n",
    "    if provider == 'bf16':\n",
    "        fc = torch.nn.Linear(k,n, bias=False, dtype=dtype, device=device)\n",
    "        y = fc(x)\n",
    "        dy = torch.rand_like(y)\n",
    "        ms = triton.testing.do_bench(lambda: y.backward(dy, retain_graph=True), grad_to_none=[x])\n",
    "    if provider == 'fp8':\n",
    "        fc = DeepLinear(k,n, bias=False, dtype=dtype, device=device)\n",
    "        y = fc(x)\n",
    "        dy = torch.rand_like(y)\n",
    "        ms = triton.testing.do_bench(lambda: y.backward(dy, retain_graph=True), grad_to_none=[x])\n",
    "    return ms\n",
    "benchmark.run(show_plots=True, print_data=True)"
   ]
  },
  {
   "cell_type": "code",
   "execution_count": null,
   "metadata": {},
   "outputs": [],
   "source": []
  }
 ],
 "metadata": {
  "kernelspec": {
   "display_name": "Python 3",
   "language": "python",
   "name": "python3"
  },
  "language_info": {
   "codemirror_mode": {
    "name": "ipython",
    "version": 3
   },
   "file_extension": ".py",
   "mimetype": "text/x-python",
   "name": "python",
   "nbconvert_exporter": "python",
   "pygments_lexer": "ipython3",
   "version": "3.10.14"
  }
 },
 "nbformat": 4,
 "nbformat_minor": 2
}
