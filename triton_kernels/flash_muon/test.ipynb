{
 "cells": [
  {
   "cell_type": "code",
   "execution_count": 15,
   "metadata": {},
   "outputs": [],
   "source": [
    "import triton\n",
    "import triton.language as tl\n",
    "import torch\n",
    "import os\n",
    "os.environ['TRITON_PRINT_AUTOTUNING']= '1'\n",
    "from flash_muon_cuda import matmul_transpose_assign, matmul_transpose\n",
    "import time\n",
    "import pandas as pd\n",
    "import matplotlib.pyplot as plt"
   ]
  },
  {
   "cell_type": "code",
   "execution_count": null,
   "metadata": {},
   "outputs": [],
   "source": [
    "# @triton.autotune([triton.Config({\"BLOCK_M\":bm, \"BLOCK_N\":bn, \"BLOCK_K\":bk, \"GROUP_SIZE_M\":gm}, num_warps=nw, num_stages=4)\n",
    "#                   for bm in [32, 64]\n",
    "#                   for bn in [32, 64]\n",
    "#                   for bk in [64]\n",
    "#                   for nw in [1,2,4,8]\n",
    "#                   for gm in [8]\n",
    "#                   ], key=[\"N\"])\n",
    "@triton.jit\n",
    "def matmul_kernel(X, \n",
    "                  Y, \n",
    "                  N: tl.constexpr,\n",
    "                  BLOCK_M:tl.constexpr=64,\n",
    "                  BLOCK_N:tl.constexpr=64,\n",
    "                  BLOCK_K:tl.constexpr=64,\n",
    "                  GROUP_SIZE_M:tl.constexpr=16,\n",
    "                  ):\n",
    "    pid = tl.program_id(axis=0)\n",
    "    num_pid_m = tl.cdiv(N, BLOCK_M)\n",
    "    num_pid_n = tl.cdiv(N, BLOCK_N)\n",
    "    num_pid_in_group = GROUP_SIZE_M * num_pid_n\n",
    "    group_id = pid // num_pid_in_group\n",
    "    first_pid_m = group_id * GROUP_SIZE_M\n",
    "    group_size_m = min(num_pid_m - first_pid_m, GROUP_SIZE_M)\n",
    "    pid_m = first_pid_m + ((pid % num_pid_in_group) % group_size_m)\n",
    "    pid_n = (pid % num_pid_in_group) // group_size_m\n",
    "\n",
    "    if (pid_m * BLOCK_M + BLOCK_M) <= (pid_n * BLOCK_N):\n",
    "        return\n",
    "\n",
    "    off_m = pid_m * BLOCK_M + tl.arange(0, BLOCK_M)\n",
    "    off_n = pid_n * BLOCK_N + tl.arange(0, BLOCK_N)\n",
    "    a_ptrs = X + off_m[:, None] * N + tl.arange(0, BLOCK_K)[None, :]\n",
    "    # b_ptrs = X + off_n[None, :] * N + tl.arange(0, BLOCK_K)[:, None]\n",
    "    b_ptrs = X + off_n[:, None] * N + tl.arange(0, BLOCK_K)[None, :]\n",
    "    acc = tl.zeros((BLOCK_M, BLOCK_N), dtype=tl.float32)\n",
    "\n",
    "    for _ in range(0, tl.cdiv(N, BLOCK_K)):\n",
    "        b = tl.load(b_ptrs)\n",
    "        a = tl.load(a_ptrs)\n",
    "        # acc = tl.dot(a, b, acc)\n",
    "        acc = tl.dot(a, tl.permute(b, (1, 0)), acc)\n",
    "        a_ptrs += BLOCK_K\n",
    "        b_ptrs += BLOCK_K\n",
    "\n",
    "    y_ptrs1 = Y + off_m[:, None] * N + off_n[None, :]\n",
    "    tl.store(y_ptrs1, acc)\n",
    "\n",
    "    y_ptrs2 = Y + off_m[None, :] + off_n[:, None] * N\n",
    "    tl.store(y_ptrs2, tl.permute(acc, (1,0)))\n",
    "\n",
    "    # y_ptrs2 = Y + off_m[:, None] + off_n[None, :] * N\n",
    "    # tl.store(y_ptrs2, acc)\n",
    "\n",
    "def matmul(x, out=None):\n",
    "    if out is None:\n",
    "        out = torch.zeros_like(x)\n",
    "    M, N = x.shape\n",
    "    assert N % 128 == 0 and M % 128 == 0\n",
    "    kwargs = {\"BLOCK_M\":128 if N>=4096 else 64, \"BLOCK_N\":128 if N>=4096 else 64, \"BLOCK_K\":64, \"num_warps\":4, \"num_stages\":4, \"GROUP_SIZE_M\":8}\n",
    "    grid = lambda meta: (triton.cdiv(M, meta['BLOCK_M']) * triton.cdiv(N, meta['BLOCK_N']), )\n",
    "    matmul_kernel[grid](x, \n",
    "                        out, \n",
    "                        N,\n",
    "                        **kwargs\n",
    "                        )\n",
    "    return out\n",
    "\n",
    "a, b, c = (3.4445, -4.7750,  2.0315)\n",
    "def run_triton(X, step=5):\n",
    "    for _ in range(step):\n",
    "        A = matmul(X)\n",
    "        B = b * A + c * matmul(A)\n",
    "        X = a * X + B @ X\n",
    "    return X\n",
    "\n",
    "def run_torch(X, step=5):\n",
    "    for _ in range(step):\n",
    "        A = X @ X.T\n",
    "        B = b * A + c * A @ A\n",
    "        X = a * X + B @ X\n",
    "    return X\n"
   ]
  },
  {
   "cell_type": "code",
   "execution_count": 14,
   "metadata": {},
   "outputs": [
    {
     "name": "stdout",
     "output_type": "stream",
     "text": [
      "      dim    triton      torch       cuda\n",
      "0    1024  0.015140   0.010127   0.038926\n",
      "1    2048  0.035008   0.028196   0.075227\n",
      "2    3072  0.093735   0.078786   0.209389\n",
      "3    4096  0.131490   0.182103   0.274603\n",
      "4    5120  0.257187   0.388764   0.668624\n",
      "5    6144  0.401960   0.659991   0.987421\n",
      "6    7168  0.652907   1.038566   1.600684\n",
      "7    8192  0.945991   1.612713   2.040780\n",
      "8    9216  1.363409   2.252778   2.856188\n",
      "9   10240  1.805552   3.073045   4.144083\n",
      "10  11264  2.400649   4.177691   5.132962\n",
      "11  12288  3.163356   5.295420   6.708187\n",
      "12  13312  3.983519   6.739612   8.395350\n",
      "13  14336  4.998694   8.884090  10.290255\n",
      "14  15360  6.046372  10.737362  12.774410\n"
     ]
    }
   ],
   "source": [
    "device = \"cuda\"\n",
    "dtype = torch.bfloat16\n",
    "N = 1024\n",
    "x = torch.randn(N, N*2, device=device, dtype=dtype)\n",
    "\n",
    "data = {\"dim\":[], \"triton\":[], \"torch\":[], \"cuda\":[]}\n",
    "for i in range(1, 16):\n",
    "    N = i * 1024\n",
    "    x = torch.randn(N, N, device=device, dtype=dtype)\n",
    "    ms1 = triton.testing.do_bench(lambda: matmul_transpose(x))\n",
    "    ms2 = triton.testing.do_bench(lambda: matmul(x))\n",
    "    ms3 = triton.testing.do_bench(lambda: torch.matmul(x, x.t()))\n",
    "    data[\"dim\"].append(N)\n",
    "    data[\"triton\"].append(ms2)\n",
    "    data[\"torch\"].append(ms3)\n",
    "    data[\"cuda\"].append(ms1)\n",
    "df = pd.DataFrame(data)\n",
    "print(df)\n",
    "    "
   ]
  },
  {
   "cell_type": "code",
   "execution_count": 13,
   "metadata": {},
   "outputs": [
    {
     "data": {
      "text/plain": [
       "True"
      ]
     },
     "execution_count": 13,
     "metadata": {},
     "output_type": "execute_result"
    }
   ],
   "source": [
    "torch.allclose(matmul(x), torch.matmul(x, x.t()))"
   ]
  },
  {
   "cell_type": "code",
   "execution_count": 11,
   "metadata": {},
   "outputs": [
    {
     "data": {
      "text/plain": [
       "tensor([[ 1.5040e+04, -5.5750e+01,  2.5469e+00,  ...,  2.4100e+02,\n",
       "          3.4600e+02,  6.3438e+00],\n",
       "        [-5.5750e+01,  1.5040e+04, -2.1000e+02,  ...,  1.5062e+01,\n",
       "          2.1400e+02, -1.9625e+01],\n",
       "        [ 2.5469e+00, -2.1000e+02,  1.5680e+04,  ..., -2.9500e+01,\n",
       "         -1.5000e+02, -1.1700e+02],\n",
       "        ...,\n",
       "        [ 2.4100e+02,  1.5062e+01, -2.9500e+01,  ...,  1.5232e+04,\n",
       "         -2.1000e+02, -2.5625e+01],\n",
       "        [ 3.4600e+02,  2.1400e+02, -1.5000e+02,  ..., -2.1000e+02,\n",
       "          1.5616e+04,  4.5000e+00],\n",
       "        [ 6.3438e+00, -1.9625e+01, -1.1700e+02,  ..., -2.5625e+01,\n",
       "          4.5000e+00,  1.5360e+04]], device='cuda:0', dtype=torch.bfloat16)"
      ]
     },
     "execution_count": 11,
     "metadata": {},
     "output_type": "execute_result"
    }
   ],
   "source": [
    "torch.matmul(x, x.t())"
   ]
  },
  {
   "cell_type": "code",
   "execution_count": 7,
   "metadata": {},
   "outputs": [
    {
     "name": "stdout",
     "output_type": "stream",
     "text": [
      "0.1314159482717514\n",
      "0.18525195121765137\n"
     ]
    }
   ],
   "source": [
    "print(triton.testing.do_bench(lambda: matmul(x)))\n",
    "print(triton.testing.do_bench(lambda: torch.matmul(x, x.t())))"
   ]
  },
  {
   "cell_type": "code",
   "execution_count": 19,
   "metadata": {},
   "outputs": [
    {
     "data": {
      "image/png": "[encoded data removed]",
      "text/plain": [
       "<Figure size 640x480 with 1 Axes>"
      ]
     },
     "metadata": {},
     "output_type": "display_data"
    },
    {
     "name": "stdout",
     "output_type": "stream",
     "text": [
      "muon:\n",
      "        N     naive    triton      cuda\n",
      "0  1024.0  0.010073  0.012151  0.003139\n",
      "1  2048.0  0.028228  0.030456  0.002796\n",
      "2  3072.0  0.078057  0.084861  0.003088\n",
      "3  4096.0  0.181412  0.120780  0.002789\n",
      "4  5120.0  0.370362  0.246647  0.003091\n",
      "5  6144.0  0.620314  0.388048  0.003050\n",
      "6  7168.0  1.027804  0.634725  0.003075\n",
      "7  8192.0  1.544641  0.903523  0.003065\n"
     ]
    }
   ],
   "source": [
    "torch.cuda.empty_cache()\n",
    "@triton.testing.perf_report(\n",
    "    triton.testing.Benchmark(\n",
    "        x_names=['N'],  # argument names to use as an x-axis for the plot\n",
    "        x_vals=[1024 * i for i in range(1, 8+1)],  # different possible values for `x_name`\n",
    "        line_arg='provider',  # argument name whose value corresponds to a different line in the plot\n",
    "        line_vals=['naive', 'triton',\"cuda\"],  # possible values for `line_arg``\n",
    "        line_names=[\n",
    "            \"naive\",\n",
    "            \"triton\",\n",
    "            \"cuda\"\n",
    "        ],  # label name for the lines\n",
    "        styles=[('blue', '-'), ('green', '-'), ('red', '-')],  # line styles\n",
    "        ylabel=\"ms\",  # label name for the y-axis\n",
    "        plot_name=\"muon\",  # name for the plot. Used also as a file name for saving the plot.\n",
    "        args={},  # values for function arguments not in `x_names` and `y_name`\n",
    "    ))\n",
    "def benchmark(N, provider):\n",
    "    device = \"cuda\"\n",
    "    dtype = torch.bfloat16\n",
    "    x = torch.randn(N, N, device=device, dtype=dtype)\n",
    "    out = torch.empty_like(x)\n",
    "    stream = torch.cuda.Stream()\n",
    "    torch.cuda.set_stream(stream)\n",
    "    if provider == 'naive':\n",
    "        ms = triton.testing.do_bench(lambda: torch.matmul(x, x.t()))\n",
    "    if provider == 'triton':\n",
    "        ms = triton.testing.do_bench(lambda: matmul(x, out))\n",
    "    if provider == 'cuda':\n",
    "        ms = triton.testing.do_bench(lambda: matmul_transpose(x))\n",
    "    return ms\n",
    "benchmark.run(show_plots=True, print_data=True)"
   ]
  },
  {
   "cell_type": "code",
   "execution_count": 36,
   "metadata": {},
   "outputs": [
    {
     "data": {
      "image/png": "[encoded data removed]",
      "text/plain": [
       "<Figure size 640x480 with 1 Axes>"
      ]
     },
     "metadata": {},
     "output_type": "display_data"
    },
    {
     "name": "stdout",
     "output_type": "stream",
     "text": [
      "muon:\n",
      "        N      naive     triton\n",
      "0  1024.0   0.282652   0.609693\n",
      "1  2048.0   0.572634   0.671413\n",
      "2  3072.0   1.455426   1.437495\n",
      "3  4096.0   3.053827   2.699235\n",
      "4  5120.0   5.814272   4.953599\n",
      "5  6144.0   9.623940   7.736847\n",
      "6  7168.0  14.736821  11.981832\n",
      "7  8192.0  22.842152  17.418835\n"
     ]
    }
   ],
   "source": [
    "torch.cuda.empty_cache()\n",
    "@triton.testing.perf_report(\n",
    "    triton.testing.Benchmark(\n",
    "        x_names=['N'],  # argument names to use as an x-axis for the plot\n",
    "        x_vals=[1024 * i for i in range(1, 8+1)],  # different possible values for `x_name`\n",
    "        line_arg='provider',  # argument name whose value corresponds to a different line in the plot\n",
    "        line_vals=['naive', 'triton'],  # possible values for `line_arg``\n",
    "        line_names=[\n",
    "            \"naive\",\n",
    "            \"triton\",\n",
    "        ],  # label name for the lines\n",
    "        styles=[('blue', '-'), ('green', '-')],  # line styles\n",
    "        ylabel=\"ms\",  # label name for the y-axis\n",
    "        plot_name=\"muon\",  # name for the plot. Used also as a file name for saving the plot.\n",
    "        args={},  # values for function arguments not in `x_names` and `y_name`\n",
    "    ))\n",
    "def benchmark(N, provider):\n",
    "    device = \"cuda\"\n",
    "    dtype = torch.bfloat16\n",
    "    x = torch.randn(N, N, device=device, dtype=dtype)\n",
    "    stream = torch.cuda.Stream()\n",
    "    torch.cuda.set_stream(stream)\n",
    "    if provider == 'naive':\n",
    "        ms = triton.testing.do_bench(lambda: run_torch(x))\n",
    "    if provider == 'triton':\n",
    "        ms = triton.testing.do_bench(lambda: run_triton(x))\n",
    "    return ms\n",
    "benchmark.run(show_plots=True, print_data=True)"
   ]
  },
  {
   "cell_type": "code",
   "execution_count": null,
   "metadata": {},
   "outputs": [],
   "source": []
  }
 ],
 "metadata": {
  "kernelspec": {
   "display_name": "Python 3",
   "language": "python",
   "name": "python3"
  },
  "language_info": {
   "codemirror_mode": {
    "name": "ipython",
    "version": 3
   },
   "file_extension": ".py",
   "mimetype": "text/x-python",
   "name": "python",
   "nbconvert_exporter": "python",
   "pygments_lexer": "ipython3",
   "version": "3.10.14"
  }
 },
 "nbformat": 4,
 "nbformat_minor": 2
}
